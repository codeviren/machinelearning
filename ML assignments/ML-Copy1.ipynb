{
 "cells": [
  {
   "cell_type": "code",
   "execution_count": 1,
   "metadata": {},
   "outputs": [
    {
     "name": "stdout",
     "output_type": "stream",
     "text": [
      "0.25.1\n"
     ]
    }
   ],
   "source": [
    "import pandas as v\n",
    "print(v.__version__)"
   ]
  },
  {
   "cell_type": "code",
   "execution_count": 2,
   "metadata": {},
   "outputs": [
    {
     "data": {
      "text/plain": [
       "0    1\n",
       "1    2\n",
       "2    3\n",
       "3    4\n",
       "4    5\n",
       "5    7\n",
       "6    8\n",
       "7    6\n",
       "dtype: int64"
      ]
     },
     "execution_count": 2,
     "metadata": {},
     "output_type": "execute_result"
    }
   ],
   "source": [
    "arr=[1,2,3,4,5,7,8,6]\n",
    "s1=v.Series(arr)\n",
    "s1"
   ]
  },
  {
   "cell_type": "code",
   "execution_count": 4,
   "metadata": {},
   "outputs": [
    {
     "data": {
      "text/plain": [
       "1    1\n",
       "2    2\n",
       "3    3\n",
       "4    4\n",
       "5    5\n",
       "6    7\n",
       "7    8\n",
       "8    6\n",
       "dtype: int64"
      ]
     },
     "execution_count": 4,
     "metadata": {},
     "output_type": "execute_result"
    }
   ],
   "source": [
    "order=[1,2,3,4,5,6,7,8]\n",
    "s2=v.Series(arr,index=order)\n",
    "s2"
   ]
  },
  {
   "cell_type": "code",
   "execution_count": 11,
   "metadata": {},
   "outputs": [
    {
     "data": {
      "text/plain": [
       "a    0.944053\n",
       "b    0.760024\n",
       "c   -0.902955\n",
       "d   -0.581058\n",
       "e    0.268592\n",
       "dtype: float64"
      ]
     },
     "execution_count": 11,
     "metadata": {},
     "output_type": "execute_result"
    }
   ],
   "source": [
    "import numpy as np\n",
    "n=np.random.randn(5)\n",
    "index=['a','b','c','d','e']\n",
    "s2=v.Series(n,index=index)\n",
    "s2"
   ]
  },
  {
   "cell_type": "code",
   "execution_count": 12,
   "metadata": {},
   "outputs": [
    {
     "data": {
      "text/plain": [
       "a    1\n",
       "b    2\n",
       "c    3\n",
       "d    4\n",
       "dtype: int64"
      ]
     },
     "execution_count": 12,
     "metadata": {},
     "output_type": "execute_result"
    }
   ],
   "source": [
    "d={'a':1,'b':2,'c':3,'d':4}\n",
    "s3=v.Series(d)\n",
    "s3"
   ]
  },
  {
   "cell_type": "code",
   "execution_count": 13,
   "metadata": {},
   "outputs": [
    {
     "name": "stdout",
     "output_type": "stream",
     "text": [
      "0    1\n",
      "1    2\n",
      "2    3\n",
      "3    4\n",
      "4    5\n",
      "5    7\n",
      "6    8\n",
      "7    6\n",
      "dtype: int64\n"
     ]
    }
   ],
   "source": [
    "print(s1)"
   ]
  },
  {
   "cell_type": "code",
   "execution_count": 15,
   "metadata": {},
   "outputs": [
    {
     "name": "stdout",
     "output_type": "stream",
     "text": [
      "0    1\n",
      "1    2\n",
      "2    3\n",
      "dtype: int64\n"
     ]
    }
   ],
   "source": [
    "print(s1[:3])"
   ]
  },
  {
   "cell_type": "code",
   "execution_count": 23,
   "metadata": {},
   "outputs": [
    {
     "name": "stdout",
     "output_type": "stream",
     "text": [
      "a    1\n",
      "b    2\n",
      "c    3\n",
      "d    4\n",
      "0    1\n",
      "1    2\n",
      "2    3\n",
      "3    4\n",
      "4    5\n",
      "5    7\n",
      "6    8\n",
      "7    6\n",
      "dtype: int64\n",
      "a    1\n",
      "b    2\n",
      "c    3\n",
      "d    4\n",
      "0    1\n",
      "1    2\n",
      "2    3\n",
      "3    4\n",
      "4    5\n",
      "5    7\n",
      "6    8\n",
      "7    6\n",
      "dtype: int64\n"
     ]
    }
   ],
   "source": [
    "s4=s3.append(s1)\n",
    "print(s4)\n",
    "s4.drop('d')\n",
    "print(s4)"
   ]
  },
  {
   "cell_type": "code",
   "execution_count": 39,
   "metadata": {},
   "outputs": [
    {
     "data": {
      "text/html": [
       "<div>\n",
       "<style scoped>\n",
       "    .dataframe tbody tr th:only-of-type {\n",
       "        vertical-align: middle;\n",
       "    }\n",
       "\n",
       "    .dataframe tbody tr th {\n",
       "        vertical-align: top;\n",
       "    }\n",
       "\n",
       "    .dataframe thead th {\n",
       "        text-align: right;\n",
       "    }\n",
       "</style>\n",
       "<table border=\"1\" class=\"dataframe\">\n",
       "  <thead>\n",
       "    <tr style=\"text-align: right;\">\n",
       "      <th></th>\n",
       "      <th>a</th>\n",
       "      <th>b</th>\n",
       "      <th>c</th>\n",
       "      <th>d</th>\n",
       "    </tr>\n",
       "  </thead>\n",
       "  <tbody>\n",
       "    <tr>\n",
       "      <td>2020-05-22 22:24:05.014208</td>\n",
       "      <td>-0.248131</td>\n",
       "      <td>0.744528</td>\n",
       "      <td>0.149093</td>\n",
       "      <td>-0.103211</td>\n",
       "    </tr>\n",
       "    <tr>\n",
       "      <td>2020-05-23 22:24:05.014208</td>\n",
       "      <td>0.481947</td>\n",
       "      <td>-0.292827</td>\n",
       "      <td>-0.828176</td>\n",
       "      <td>0.862435</td>\n",
       "    </tr>\n",
       "    <tr>\n",
       "      <td>2020-05-24 22:24:05.014208</td>\n",
       "      <td>0.279887</td>\n",
       "      <td>-0.938441</td>\n",
       "      <td>1.738813</td>\n",
       "      <td>0.957611</td>\n",
       "    </tr>\n",
       "    <tr>\n",
       "      <td>2020-05-25 22:24:05.014208</td>\n",
       "      <td>-2.098665</td>\n",
       "      <td>-0.831653</td>\n",
       "      <td>0.177304</td>\n",
       "      <td>-0.804715</td>\n",
       "    </tr>\n",
       "    <tr>\n",
       "      <td>2020-05-26 22:24:05.014208</td>\n",
       "      <td>0.927804</td>\n",
       "      <td>0.630245</td>\n",
       "      <td>-0.412835</td>\n",
       "      <td>-1.593488</td>\n",
       "    </tr>\n",
       "    <tr>\n",
       "      <td>2020-05-27 22:24:05.014208</td>\n",
       "      <td>0.318085</td>\n",
       "      <td>2.129610</td>\n",
       "      <td>-1.489333</td>\n",
       "      <td>-0.755627</td>\n",
       "    </tr>\n",
       "  </tbody>\n",
       "</table>\n",
       "</div>"
      ],
      "text/plain": [
       "                                   a         b         c         d\n",
       "2020-05-22 22:24:05.014208 -0.248131  0.744528  0.149093 -0.103211\n",
       "2020-05-23 22:24:05.014208  0.481947 -0.292827 -0.828176  0.862435\n",
       "2020-05-24 22:24:05.014208  0.279887 -0.938441  1.738813  0.957611\n",
       "2020-05-25 22:24:05.014208 -2.098665 -0.831653  0.177304 -0.804715\n",
       "2020-05-26 22:24:05.014208  0.927804  0.630245 -0.412835 -1.593488\n",
       "2020-05-27 22:24:05.014208  0.318085  2.129610 -1.489333 -0.755627"
      ]
     },
     "execution_count": 39,
     "metadata": {},
     "output_type": "execute_result"
    }
   ],
   "source": [
    "dates=v.date_range('today',periods=6)\n",
    "#dates\n",
    "num_arr=np.random.randn(6,4)\n",
    "columns=['a','b','c','d']\n",
    "df1=v.DataFrame(num_arr,index=dates,columns=columns)\n",
    "df1\n",
    "#columns\n",
    "#num_arr"
   ]
  },
  {
   "cell_type": "code",
   "execution_count": 50,
   "metadata": {},
   "outputs": [
    {
     "data": {
      "text/plain": [
       "a   -0.339073\n",
       "b    1.441462\n",
       "c   -0.665133\n",
       "d   -1.436996\n",
       "dtype: float64"
      ]
     },
     "execution_count": 50,
     "metadata": {},
     "output_type": "execute_result"
    }
   ],
   "source": [
    "df1.head(3)\n",
    "df1.tail(2)\n",
    "df1[1:3]\n",
    "df1.isnull()\n",
    "df1.mean()\n",
    "df1.sum()"
   ]
  },
  {
   "cell_type": "code",
   "execution_count": 58,
   "metadata": {},
   "outputs": [
    {
     "data": {
      "text/html": [
       "<div>\n",
       "<style scoped>\n",
       "    .dataframe tbody tr th:only-of-type {\n",
       "        vertical-align: middle;\n",
       "    }\n",
       "\n",
       "    .dataframe tbody tr th {\n",
       "        vertical-align: top;\n",
       "    }\n",
       "\n",
       "    .dataframe thead th {\n",
       "        text-align: right;\n",
       "    }\n",
       "</style>\n",
       "<table border=\"1\" class=\"dataframe\">\n",
       "  <thead>\n",
       "    <tr style=\"text-align: right;\">\n",
       "      <th></th>\n",
       "      <th>a</th>\n",
       "      <th>b</th>\n",
       "      <th>c</th>\n",
       "      <th>d</th>\n",
       "    </tr>\n",
       "  </thead>\n",
       "  <tbody>\n",
       "    <tr>\n",
       "      <td>2020-05-22 22:24:05.014208</td>\n",
       "      <td>-0.248131</td>\n",
       "      <td>0.744528</td>\n",
       "      <td>0.149093</td>\n",
       "      <td>-0.103211</td>\n",
       "    </tr>\n",
       "    <tr>\n",
       "      <td>2020-05-23 22:24:05.014208</td>\n",
       "      <td>0.481947</td>\n",
       "      <td>-0.292827</td>\n",
       "      <td>-0.828176</td>\n",
       "      <td>0.862435</td>\n",
       "    </tr>\n",
       "    <tr>\n",
       "      <td>2020-05-24 22:24:05.014208</td>\n",
       "      <td>0.279887</td>\n",
       "      <td>-0.938441</td>\n",
       "      <td>1.738813</td>\n",
       "      <td>0.957611</td>\n",
       "    </tr>\n",
       "    <tr>\n",
       "      <td>2020-05-25 22:24:05.014208</td>\n",
       "      <td>-2.098665</td>\n",
       "      <td>-0.831653</td>\n",
       "      <td>0.177304</td>\n",
       "      <td>-0.804715</td>\n",
       "    </tr>\n",
       "    <tr>\n",
       "      <td>2020-05-26 22:24:05.014208</td>\n",
       "      <td>0.927804</td>\n",
       "      <td>0.630245</td>\n",
       "      <td>-0.412835</td>\n",
       "      <td>-1.593488</td>\n",
       "    </tr>\n",
       "    <tr>\n",
       "      <td>2020-05-27 22:24:05.014208</td>\n",
       "      <td>0.318085</td>\n",
       "      <td>2.129610</td>\n",
       "      <td>-1.489333</td>\n",
       "      <td>-0.755627</td>\n",
       "    </tr>\n",
       "  </tbody>\n",
       "</table>\n",
       "</div>"
      ],
      "text/plain": [
       "                                   a         b         c         d\n",
       "2020-05-22 22:24:05.014208 -0.248131  0.744528  0.149093 -0.103211\n",
       "2020-05-23 22:24:05.014208  0.481947 -0.292827 -0.828176  0.862435\n",
       "2020-05-24 22:24:05.014208  0.279887 -0.938441  1.738813  0.957611\n",
       "2020-05-25 22:24:05.014208 -2.098665 -0.831653  0.177304 -0.804715\n",
       "2020-05-26 22:24:05.014208  0.927804  0.630245 -0.412835 -1.593488\n",
       "2020-05-27 22:24:05.014208  0.318085  2.129610 -1.489333 -0.755627"
      ]
     },
     "execution_count": 58,
     "metadata": {},
     "output_type": "execute_result"
    }
   ],
   "source": [
    "df2=df1.copy()\n",
    "df2.fillna(2)"
   ]
  },
  {
   "cell_type": "code",
   "execution_count": 61,
   "metadata": {},
   "outputs": [],
   "source": [
    "df2.to_csv('animal.csv')"
   ]
  },
  {
   "cell_type": "code",
   "execution_count": 64,
   "metadata": {},
   "outputs": [
    {
     "data": {
      "text/html": [
       "<div>\n",
       "<style scoped>\n",
       "    .dataframe tbody tr th:only-of-type {\n",
       "        vertical-align: middle;\n",
       "    }\n",
       "\n",
       "    .dataframe tbody tr th {\n",
       "        vertical-align: top;\n",
       "    }\n",
       "\n",
       "    .dataframe thead th {\n",
       "        text-align: right;\n",
       "    }\n",
       "</style>\n",
       "<table border=\"1\" class=\"dataframe\">\n",
       "  <thead>\n",
       "    <tr style=\"text-align: right;\">\n",
       "      <th></th>\n",
       "      <th>Unnamed: 0</th>\n",
       "      <th>a</th>\n",
       "      <th>b</th>\n",
       "      <th>c</th>\n",
       "      <th>d</th>\n",
       "    </tr>\n",
       "  </thead>\n",
       "  <tbody>\n",
       "    <tr>\n",
       "      <td>0</td>\n",
       "      <td>2020-05-22 22:24:05.014208</td>\n",
       "      <td>-0.248131</td>\n",
       "      <td>0.744528</td>\n",
       "      <td>0.149093</td>\n",
       "      <td>-0.103211</td>\n",
       "    </tr>\n",
       "    <tr>\n",
       "      <td>1</td>\n",
       "      <td>2020-05-23 22:24:05.014208</td>\n",
       "      <td>0.481947</td>\n",
       "      <td>-0.292827</td>\n",
       "      <td>-0.828176</td>\n",
       "      <td>0.862435</td>\n",
       "    </tr>\n",
       "    <tr>\n",
       "      <td>2</td>\n",
       "      <td>2020-05-24 22:24:05.014208</td>\n",
       "      <td>0.279887</td>\n",
       "      <td>-0.938441</td>\n",
       "      <td>1.738813</td>\n",
       "      <td>0.957611</td>\n",
       "    </tr>\n",
       "  </tbody>\n",
       "</table>\n",
       "</div>"
      ],
      "text/plain": [
       "                   Unnamed: 0         a         b         c         d\n",
       "0  2020-05-22 22:24:05.014208 -0.248131  0.744528  0.149093 -0.103211\n",
       "1  2020-05-23 22:24:05.014208  0.481947 -0.292827 -0.828176  0.862435\n",
       "2  2020-05-24 22:24:05.014208  0.279887 -0.938441  1.738813  0.957611"
      ]
     },
     "execution_count": 64,
     "metadata": {},
     "output_type": "execute_result"
    }
   ],
   "source": [
    "df2_animal=v.read_csv('animal.csv')\n",
    "df2_animal.head(3)"
   ]
  },
  {
   "cell_type": "code",
   "execution_count": 66,
   "metadata": {},
   "outputs": [
    {
     "data": {
      "text/plain": [
       "<matplotlib.axes._subplots.AxesSubplot at 0x1ced23b1a48>"
      ]
     },
     "execution_count": 66,
     "metadata": {},
     "output_type": "execute_result"
    },
    {
     "data": {
      "image/png": "[encoded data removed]",
      "text/plain": [
       "<Figure size 432x288 with 1 Axes>"
      ]
     },
     "metadata": {
      "needs_background": "light"
     },
     "output_type": "display_data"
    }
   ],
   "source": [
    "import numpy as np\n",
    "%matplotlib inline\n",
    "\n",
    "ts=v.Series(np.random.randn(50),index=v.date_range('today',periods=50))\n",
    "ts.plot()"
   ]
  },
  {
   "cell_type": "code",
   "execution_count": 7,
   "metadata": {},
   "outputs": [
    {
     "name": "stdout",
     "output_type": "stream",
     "text": [
      "<module 'matplotlib.pyplot' from 'F:\\\\anaconda\\\\lib\\\\site-packages\\\\matplotlib\\\\pyplot.py'>\n"
     ]
    },
    {
     "data": {
      "image/png": "[encoded data removed]",
      "text/plain": [
       "<Figure size 432x288 with 1 Axes>"
      ]
     },
     "metadata": {
      "needs_background": "light"
     },
     "output_type": "display_data"
    },
    {
     "name": "stdout",
     "output_type": "stream",
     "text": [
      "<module 'matplotlib.pyplot' from 'F:\\\\anaconda\\\\lib\\\\site-packages\\\\matplotlib\\\\pyplot.py'>\n"
     ]
    }
   ],
   "source": [
    "import numpy as np\n",
    "import pandas as pd\n",
    "import matplotlib.pyplot as plt\n",
    "x=np.arange(10)\n",
    "y=x**2\n",
    "plt.plot(x,y)\n",
    "print(plt)\n",
    "plt.plot(y,x,'b+')\n",
    "plt.show()\n",
    "print(plt)"
   ]
  },
  {
   "cell_type": "code",
   "execution_count": 8,
   "metadata": {},
   "outputs": [
    {
     "data": {
      "image/png": "[encoded data removed]",
      "text/plain": [
       "<Figure size 432x288 with 1 Axes>"
      ]
     },
     "metadata": {
      "needs_background": "light"
     },
     "output_type": "display_data"
    }
   ],
   "source": [
    "plt.plot([1,2,3,4,5,6],[1,6,9,4,7,6])\n",
    "plt.xlabel('x')\n",
    "plt.ylabel('y')\n",
    "plt.show()"
   ]
  },
  {
   "cell_type": "markdown",
   "metadata": {},
   "source": []
  }
 ],
 "metadata": {
  "kernelspec": {
   "display_name": "Python 3",
   "language": "python",
   "name": "python3"
  },
  "language_info": {
   "codemirror_mode": {
    "name": "ipython",
    "version": 3
   },
   "file_extension": ".py",
   "mimetype": "text/x-python",
   "name": "python",
   "nbconvert_exporter": "python",
   "pygments_lexer": "ipython3",
   "version": "3.7.4"
  }
 },
 "nbformat": 4,
 "nbformat_minor": 2
}
