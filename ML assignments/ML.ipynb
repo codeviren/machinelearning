{
 "cells": [
  {
   "cell_type": "code",
   "execution_count": 3,
   "metadata": {},
   "outputs": [
    {
     "name": "stdout",
     "output_type": "stream",
     "text": [
      "[4, 5, 6, 8]\n"
     ]
    }
   ],
   "source": [
    "# write a program to get a user inputin the form of a list data type. return a list by removing all duplicates\n",
    "\n",
    "ls=[4,4,5,6,8,4,5]\n",
    "for i in ls:\n",
    "    if ls.count(i)>1:\n",
    "            ls.remove(i)\n",
    "    ls.sort()\n",
    "print(ls)\n",
    "\n"
   ]
  },
  {
   "cell_type": "code",
   "execution_count": 4,
   "metadata": {},
   "outputs": [
    {
     "name": "stdout",
     "output_type": "stream",
     "text": [
      "Length of tuple :  8\n",
      "Sum :  36\n",
      "Maximum :  8\n",
      "Minimum :  1\n"
     ]
    }
   ],
   "source": [
    "#w.a.p. to create a user defined tuple and using length,sum and largest,smallest function\n",
    "\n",
    "tp=(1,2,3,4,5,6,7,8)\n",
    "ls=list(tp)\n",
    "print('Length of tuple : ',len(tp))\n",
    "print('Sum : ',sum(ls))\n",
    "print('Maximum : ',max(tp))\n",
    "print('Minimum : ',min(tp)) \n",
    "\n"
   ]
  },
  {
   "cell_type": "code",
   "execution_count": 5,
   "metadata": {},
   "outputs": [
    {
     "name": "stdout",
     "output_type": "stream",
     "text": [
      "[1, 2, 3, 4, 4, 5, 6, 7, 8, 9]\n"
     ]
    }
   ],
   "source": [
    "#given two list of integers A & B. W.A.P. to merge them and sort it in ascending order\n",
    "\n",
    "ls=[1,2,3,4,5]\n",
    "ls1=[9,7,6,4,8]\n",
    "ls.extend(ls1)\n",
    "ls.sort()\n",
    "print(ls)\n"
   ]
  },
  {
   "cell_type": "code",
   "execution_count": 8,
   "metadata": {},
   "outputs": [
    {
     "name": "stdout",
     "output_type": "stream",
     "text": [
      "Enter the number of values in dictionary : \n",
      "3\n",
      "Enter Key  Element : \n",
      "3\n",
      "Enter Value : \n",
      "oslo\n",
      "Enter Key  Element : \n",
      "4\n",
      "Enter Value : \n",
      "nairobi\n",
      "Enter Key  Element : \n",
      "8\n",
      "Enter Value : \n",
      "berlin\n",
      "{0: 0}\n",
      "3\n"
     ]
    }
   ],
   "source": [
    "#create a user defined dictionary to store name and marks of 5 students.sort the dictionary and return to the user\n",
    "key=0\n",
    "val=0\n",
    "\n",
    "d={key:val}\n",
    "print(\"Enter the number of values in dictionary : \")\n",
    "n=int(input())\n",
    "\n",
    "for var in range(0,n):\n",
    "    print(\"Enter Key  Element : \")\n",
    "    key=(input())\n",
    "    print(\"Enter Value : \")\n",
    "    val=input()\n",
    "print(d)\n",
    "print(n)"
   ]
  },
  {
   "cell_type": "code",
   "execution_count": 9,
   "metadata": {},
   "outputs": [
    {
     "name": "stdout",
     "output_type": "stream",
     "text": [
      "enter the no:-13\n",
      "enter the bit to be changed;-1\n",
      "15\n"
     ]
    }
   ],
   "source": [
    "#given a no. and ith bit, change the ith bit of that no. to 1.\n",
    "n=int(input('enter the no:-'))\n",
    "i=int(input(\"enter the bit to be changed;-\"))\n",
    "n=bin(n)\n",
    "n=n[2:len(n)]\n",
    "n=n.replace(n[i+1],'1')\n",
    "n=int(n,2)\n",
    "print(n)\n"
   ]
  },
  {
   "cell_type": "code",
   "execution_count": 2,
   "metadata": {},
   "outputs": [
    {
     "name": "stdout",
     "output_type": "stream",
     "text": [
      "enter the number:-9\n",
      "this is odd no.\n"
     ]
    }
   ],
   "source": [
    "# enter a no. and find whether it is even or odd no.\n",
    "num=int(input(\"enter the number:-\"))\n",
    "mod=num%2\n",
    "if mod>0:\n",
    "    print(\"this is odd no.\")\n",
    "else:\n",
    "    print('this is even no')\n"
   ]
  },
  {
   "cell_type": "code",
   "execution_count": null,
   "metadata": {},
   "outputs": [],
   "source": []
  }
 ],
 "metadata": {
  "kernelspec": {
   "display_name": "Python 3",
   "language": "python",
   "name": "python3"
  },
  "language_info": {
   "codemirror_mode": {
    "name": "ipython",
    "version": 3
   },
   "file_extension": ".py",
   "mimetype": "text/x-python",
   "name": "python",
   "nbconvert_exporter": "python",
   "pygments_lexer": "ipython3",
   "version": "3.7.4"
  }
 },
 "nbformat": 4,
 "nbformat_minor": 2
}
