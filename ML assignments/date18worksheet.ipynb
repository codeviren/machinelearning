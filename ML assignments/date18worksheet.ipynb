{
 "cells": [
  {
   "cell_type": "code",
   "execution_count": 1,
   "metadata": {},
   "outputs": [
    {
     "name": "stdout",
     "output_type": "stream",
     "text": [
      "enter a no.:- 5\n",
      "this is odd\n"
     ]
    }
   ],
   "source": [
    "#odd even\n",
    "a=int(input(\"enter a no.:- \"))\n",
    "if(a%2==0):\n",
    "    print(\"this is even no. \")\n",
    "else:\n",
    "    print(\"this is odd\")\n"
   ]
  },
  {
   "cell_type": "code",
   "execution_count": 2,
   "metadata": {},
   "outputs": [
    {
     "name": "stdout",
     "output_type": "stream",
     "text": [
      "num is positive\n",
      "u k what this line print always bcz it is out of if loop\n"
     ]
    }
   ],
   "source": [
    "#if else\n",
    "a=10\n",
    "if(a>9):\n",
    "    print('num is positive')\n",
    "print('u k what this line print always bcz it is out of if loop')"
   ]
  },
  {
   "cell_type": "code",
   "execution_count": 3,
   "metadata": {},
   "outputs": [
    {
     "name": "stdout",
     "output_type": "stream",
     "text": [
      "negative\n",
      "this print always\n"
     ]
    }
   ],
   "source": [
    "num=-4\n",
    "if(num>=0):\n",
    "    print('positive')\n",
    "else:\n",
    "    print('negative')\n",
    "print('this print always')\n",
    "    "
   ]
  },
  {
   "cell_type": "code",
   "execution_count": 4,
   "metadata": {},
   "outputs": [
    {
     "name": "stdout",
     "output_type": "stream",
     "text": [
      "enter grades:- 95\n",
      "A grade congratulations\n",
      "u r done\n"
     ]
    }
   ],
   "source": [
    "#elseif\n",
    "grade=int(input('enter grades:- '))\n",
    "\n",
    "if grade>=90 and grade<=100:\n",
    "    print('A grade congratulations')\n",
    "    if grade>=95:\n",
    "        print('u r done')\n",
    "elif grade>=80 and grade<=90:\n",
    "    print('B grade good boy')\n",
    "elif grade>=70 and grade<=80:\n",
    "    print('C grade work hard')\n",
    "elif grade<70:\n",
    "    print('failure')\n",
    "else:\n",
    "    print('no grades at all')"
   ]
  },
  {
   "cell_type": "code",
   "execution_count": 6,
   "metadata": {},
   "outputs": [
    {
     "name": "stdout",
     "output_type": "stream",
     "text": [
      "enter a no:-1\n",
      "good\n",
      "positive\n"
     ]
    }
   ],
   "source": [
    "num=int(input('enter a no:-'))\n",
    "if num>=0:\n",
    "    print('good')\n",
    "    if num==0:\n",
    "        print('zero')\n",
    "    else:\n",
    "        print('positive')\n",
    "else:\n",
    "    print('negative')"
   ]
  },
  {
   "cell_type": "code",
   "execution_count": 7,
   "metadata": {},
   "outputs": [
    {
     "name": "stdout",
     "output_type": "stream",
     "text": [
      "enter no:- 3\n",
      "3\n",
      "4\n",
      "5\n",
      "6\n",
      "7\n",
      "done\n"
     ]
    }
   ],
   "source": [
    "#while\n",
    "c=int(input('enter no:- '))\n",
    "while(c<8):\n",
    "    print(c )\n",
    "    c+=1\n",
    "print('done')"
   ]
  },
  {
   "cell_type": "code",
   "execution_count": 11,
   "metadata": {},
   "outputs": [
    {
     "name": "stdout",
     "output_type": "stream",
     "text": [
      "pro=120\n"
     ]
    }
   ],
   "source": [
    "# take a tuple store it and multiply it's elements and print\n",
    "tup=(1,2,3,4,5)\n",
    "pro=1\n",
    "ind=0\n",
    "\n",
    "while(ind<len(tup)):\n",
    "    pro*=tup[ind]\n",
    "    ind+=1\n",
    "print('pro={}'.format(pro))    # {for place holder}"
   ]
  },
  {
   "cell_type": "code",
   "execution_count": 12,
   "metadata": {},
   "outputs": [
    {
     "name": "stdout",
     "output_type": "stream",
     "text": [
      "no more tuple:- \n",
      "product= 720 \n"
     ]
    }
   ],
   "source": [
    "tup=(1,2,3,4,5,6)\n",
    "pro=1\n",
    "ind=0\n",
    "\n",
    "while ind<len(tup):\n",
    "    pro*=tup[ind]\n",
    "    ind+=1\n",
    "else:\n",
    "    print('no more tuple:- ')\n",
    "print(\"product= {} \".format(pro))"
   ]
  },
  {
   "cell_type": "code",
   "execution_count": 3,
   "metadata": {},
   "outputs": [
    {
     "name": "stdout",
     "output_type": "stream",
     "text": [
      "False\n"
     ]
    }
   ],
   "source": [
    "i=[1,2,3,4]\n",
    "print(5 in i)\n"
   ]
  },
  {
   "cell_type": "code",
   "execution_count": 16,
   "metadata": {},
   "outputs": [
    {
     "name": "stdout",
     "output_type": "stream",
     "text": [
      "True\n"
     ]
    }
   ],
   "source": [
    "#dictionary\n",
    "d={1:'a',2:'4',3:'viren'}\n",
    "print(2 in d)"
   ]
  },
  {
   "cell_type": "code",
   "execution_count": 19,
   "metadata": {},
   "outputs": [
    {
     "name": "stdout",
     "output_type": "stream",
     "text": [
      "True\n"
     ]
    }
   ],
   "source": [
    "s=\"python is lit\"\n",
    "print('o'in s)"
   ]
  },
  {
   "cell_type": "code",
   "execution_count": 2,
   "metadata": {},
   "outputs": [
    {
     "name": "stdout",
     "output_type": "stream",
     "text": [
      "(1, 2, 3, 8, 45, 9)\n",
      "(1, 2, 3, 8, 45, 9)\n",
      "(1, 2, 3, 8, 45, 9)\n",
      "(1, 2, 3, 8, 45, 9)\n",
      "(1, 2, 3, 8, 45, 9)\n",
      "(1, 2, 3, 8, 45, 9)\n",
      "1\n",
      "2\n",
      "3\n",
      "8\n",
      "45\n",
      "9\n"
     ]
    }
   ],
   "source": [
    "#for loop\n",
    "ut=(1,2,3,8,45,9)\n",
    "for x in ut:\n",
    "    print(ut)\n",
    "for x in ut:    \n",
    "    print(x)\n",
    "    "
   ]
  },
  {
   "cell_type": "code",
   "execution_count": 13,
   "metadata": {},
   "outputs": [
    {
     "name": "stdout",
     "output_type": "stream",
     "text": [
      "1\n",
      "(10, 20, 30, 40, 50)\n",
      "2\n",
      "(10, 20, 30, 40, 50)\n",
      "3\n",
      "(10, 20, 30, 40, 50)\n",
      "4\n",
      "(10, 20, 30, 40, 50)\n",
      "5\n",
      "(10, 20, 30, 40, 50)\n"
     ]
    }
   ],
   "source": [
    "tp=(10,20,30,40,50)\n",
    "for x in range(1,6,1):\n",
    "    print(x)\n",
    "    print(tp)"
   ]
  },
  {
   "cell_type": "code",
   "execution_count": 16,
   "metadata": {},
   "outputs": [
    {
     "name": "stdout",
     "output_type": "stream",
     "text": [
      "you have exhausted the list\n",
      "product =120\n"
     ]
    }
   ],
   "source": [
    "#forelsed\n",
    "tp=(1,2,3,4,5)\n",
    "pro=1\n",
    "\n",
    "for x in tp:\n",
    "    pro*=x\n",
    "else:\n",
    "    print('you have exhausted the list')\n",
    "print('product ={}'.format(pro))"
   ]
  },
  {
   "cell_type": "code",
   "execution_count": 20,
   "metadata": {},
   "outputs": [
    {
     "name": "stdout",
     "output_type": "stream",
     "text": [
      "0\n",
      "1\n",
      "2\n",
      "3\n",
      "4\n",
      "good bye\n"
     ]
    }
   ],
   "source": [
    "#break\n",
    "for count in range(10):\n",
    "    if count==5:\n",
    "        break\n",
    "    print(count)\n",
    "print('good bye')"
   ]
  },
  {
   "cell_type": "code",
   "execution_count": 32,
   "metadata": {},
   "outputs": [
    {
     "name": "stdout",
     "output_type": "stream",
     "text": [
      "0\n",
      "1\n",
      "2\n",
      "3\n",
      "4\n",
      "6\n",
      "7\n",
      "8\n",
      "9\n",
      "good bye\n"
     ]
    }
   ],
   "source": [
    "#continue\n",
    "for count in range(10):\n",
    "    if count==5:\n",
    "        continue\n",
    "    print(count)\n",
    "print('good bye')"
   ]
  },
  {
   "cell_type": "code",
   "execution_count": 38,
   "metadata": {},
   "outputs": [
    {
     "name": "stdout",
     "output_type": "stream",
     "text": [
      "1 3 3\n",
      "3 5 9\n",
      "5 7 15\n",
      "7 9 21\n",
      "9 11 27\n",
      "11 13 33\n"
     ]
    }
   ],
   "source": [
    "for i in range(1,12,2):\n",
    "    print(i,i+2,i*3)\n",
    "\n"
   ]
  },
  {
   "cell_type": "code",
   "execution_count": 44,
   "metadata": {},
   "outputs": [
    {
     "name": "stdout",
     "output_type": "stream",
     "text": [
      "1\n",
      "2\n",
      "4\n",
      "5\n",
      "6\n",
      "hey my boy\n"
     ]
    }
   ],
   "source": [
    "i=[1,2,3,4,5,6]\n",
    "\n",
    "for item in i:\n",
    "    if item ==3:\n",
    "        continue   #skip the current iteration\n",
    "    print(item)\n",
    "else:\n",
    "    print('hey my boy')"
   ]
  },
  {
   "cell_type": "code",
   "execution_count": 47,
   "metadata": {},
   "outputs": [
    {
     "name": "stdout",
     "output_type": "stream",
     "text": [
      "1\n",
      "2\n",
      "3\n"
     ]
    }
   ],
   "source": [
    "i=[1,2,3,4,5,6]\n",
    "\n",
    "for item in i:\n",
    "    if item ==4:\n",
    "        break\n",
    "    print(item)\n",
    "else:\n",
    "    print('hey my boy')"
   ]
  },
  {
   "cell_type": "code",
   "execution_count": 59,
   "metadata": {},
   "outputs": [
    {
     "name": "stdout",
     "output_type": "stream",
     "text": [
      "this is viren function\n",
      "0\n",
      "1\n",
      "2\n",
      "3\n",
      "4\n",
      "<class 'function'>\n",
      "this is doc string this can be print by calling .function\n"
     ]
    }
   ],
   "source": [
    "def viren():\n",
    "    '''this is doc string this can be print by calling .function'''\n",
    "    print(\"this is viren function\")\n",
    "    for i in range(5):\n",
    "        print(i)\n",
    "        \n",
    "viren()   #this means calling function\n",
    "print(type(viren))\n",
    "print(viren.__doc__)"
   ]
  },
  {
   "cell_type": "code",
   "execution_count": 6,
   "metadata": {},
   "outputs": [
    {
     "name": "stdout",
     "output_type": "stream",
     "text": [
      "<function divmo at 0x0000023CECD259D8>\n"
     ]
    }
   ],
   "source": [
    "def divmo():\n",
    "    print(divmod(5,2))    #first floor division and then modular\n",
    "    print(divmod__.doc__)\n",
    "print(divmo)"
   ]
  },
  {
   "cell_type": "code",
   "execution_count": 7,
   "metadata": {},
   "outputs": [
    {
     "name": "stdout",
     "output_type": "stream",
     "text": [
      "64\n"
     ]
    }
   ],
   "source": [
    "def square(num):\n",
    "    return num*num\n",
    "s=square(8)\n",
    "\n",
    "print(s)"
   ]
  },
  {
   "cell_type": "code",
   "execution_count": 1,
   "metadata": {},
   "outputs": [
    {
     "name": "stdout",
     "output_type": "stream",
     "text": [
      "enter no  to find cube:- 6\n",
      "216\n"
     ]
    }
   ],
   "source": [
    "# user input cube code\n",
    "def cub(num):\n",
    "    return num**3\n",
    "s=int(input(\"enter no  to find cube:- \"))\n",
    "ss=cub(s)\n",
    "print(ss)"
   ]
  },
  {
   "cell_type": "code",
   "execution_count": 2,
   "metadata": {},
   "outputs": [
    {
     "name": "stdout",
     "output_type": "stream",
     "text": [
      "100\n"
     ]
    }
   ],
   "source": [
    "#lambda annonymous function\n",
    "square=lambda num:num*num\n",
    "sq=square(10)\n",
    "print(sq)"
   ]
  },
  {
   "cell_type": "code",
   "execution_count": null,
   "metadata": {},
   "outputs": [],
   "source": []
  }
 ],
 "metadata": {
  "kernelspec": {
   "display_name": "Python 3",
   "language": "python",
   "name": "python3"
  },
  "language_info": {
   "codemirror_mode": {
    "name": "ipython",
    "version": 3
   },
   "file_extension": ".py",
   "mimetype": "text/x-python",
   "name": "python",
   "nbconvert_exporter": "python",
   "pygments_lexer": "ipython3",
   "version": "3.7.4"
  }
 },
 "nbformat": 4,
 "nbformat_minor": 2
}
